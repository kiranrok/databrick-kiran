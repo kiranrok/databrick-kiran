{
 "cells": [
  {
   "cell_type": "code",
   "execution_count": 0,
   "metadata": {
    "application/vnd.databricks.v1+cell": {
     "cellMetadata": {},
     "inputWidgets": {},
     "nuid": "635c908a-54f5-405c-b02c-ca651646d9d8",
     "showTitle": false,
     "tableResultSettingsMap": {},
     "title": ""
    }
   },
   "outputs": [],
   "source": [
    "https://docs.databricks.com/gcp/en/views/dynamic"
   ]
  },
  {
   "cell_type": "code",
   "execution_count": 0,
   "metadata": {
    "application/vnd.databricks.v1+cell": {
     "cellMetadata": {
      "byteLimit": 2048000,
      "rowLimit": 10000
     },
     "inputWidgets": {},
     "nuid": "359b880f-68e1-4702-a96e-d9d1cb5a2ff6",
     "showTitle": false,
     "tableResultSettingsMap": {},
     "title": ""
    }
   },
   "outputs": [],
   "source": [
    "use catalog saas;\n",
    "use schema naval_silver;"
   ]
  },
  {
   "cell_type": "code",
   "execution_count": 0,
   "metadata": {
    "application/vnd.databricks.v1+cell": {
     "cellMetadata": {
      "byteLimit": 2048000,
      "rowLimit": 10000
     },
     "inputWidgets": {},
     "nuid": "c701f924-6c5a-43c0-b661-d8601332ee9f",
     "showTitle": false,
     "tableResultSettingsMap": {},
     "title": ""
    }
   },
   "outputs": [],
   "source": [
    "CREATE OR REPLACE TABLE saas.kiran_gold.heartrate_device (device_id INT, mrn STRING, name STRING, time TIMESTAMP, heartrate DOUBLE);\n",
    "\n",
    "INSERT INTO saas.kiran_gold.heartrate_device VALUES\n",
    "  (23, \"40580129\", \"Nicholas Spears\", \"2020-02-01T00:01:58.000+0000\", 54.0122153343),\n",
    "  (17, \"52804177\", \"Lynn Russell\", \"2020-02-01T00:02:55.000+0000\", 92.5136468131),\n",
    "  (37, \"65300842\", \"Samuel Hughes\", \"2020-02-01T00:08:58.000+0000\", 52.1354807863),\n",
    "  (23, \"40580129\", \"Nicholas Spears\", \"2020-02-01T00:16:51.000+0000\", 54.6477014191),\n",
    "  (17, \"52804177\", \"Lynn Russell\", \"2020-02-01T00:18:08.000+0000\", 95.033344842);\n",
    "  \n",
    "SELECT * FROM heartrate_device"
   ]
  },
  {
   "cell_type": "code",
   "execution_count": 0,
   "metadata": {
    "application/vnd.databricks.v1+cell": {
     "cellMetadata": {
      "byteLimit": 2048000,
      "rowLimit": 10000
     },
     "inputWidgets": {},
     "nuid": "45bd97b0-f511-4bce-a3df-a1aa34eeab13",
     "showTitle": false,
     "tableResultSettingsMap": {},
     "title": ""
    }
   },
   "outputs": [],
   "source": [
    "CREATE OR REPLACE VIEW saas.kiran_gold.agg_heartrate AS (\n",
    "  SELECT mrn, name, MEAN(heartrate) avg_heartrate, DATE_TRUNC(\"DD\", time) date\n",
    "  FROM heartrate_device\n",
    "  GROUP BY mrn, name, DATE_TRUNC(\"DD\", time)\n",
    ");\n",
    "SELECT * FROM saas.kiran_gold.agg_heartrate"
   ]
  },
  {
   "cell_type": "markdown",
   "metadata": {
    "application/vnd.databricks.v1+cell": {
     "cellMetadata": {},
     "inputWidgets": {},
     "nuid": "ebc974cd-142e-4d8d-8a09-24095d357c49",
     "showTitle": false,
     "tableResultSettingsMap": {},
     "title": ""
    }
   },
   "source": [
    "###Column-level permissions"
   ]
  },
  {
   "cell_type": "code",
   "execution_count": 0,
   "metadata": {
    "application/vnd.databricks.v1+cell": {
     "cellMetadata": {
      "byteLimit": 2048000,
      "rowLimit": 10000
     },
     "inputWidgets": {},
     "nuid": "e476ed67-523c-40d1-ba17-b0c530b55de3",
     "showTitle": false,
     "tableResultSettingsMap": {},
     "title": ""
    }
   },
   "outputs": [],
   "source": [
    "CREATE OR REPLACE VIEW naval_gold.agg_heartrate AS (\n",
    "  SELECT   \n",
    "    CASE WHEN\n",
    "    is_account_group_member('account users') THEN 'REDACTED'\n",
    "    ELSE mrn\n",
    "  END AS mrn,\n",
    "   name,\n",
    "   MEAN(heartrate) avg_heartrate, \n",
    "   DATE_TRUNC(\"DD\", time) date\n",
    "  FROM heartrate_device\n",
    "  GROUP BY mrn, name, DATE_TRUNC(\"DD\", time)\n",
    ");"
   ]
  },
  {
   "cell_type": "code",
   "execution_count": 0,
   "metadata": {
    "application/vnd.databricks.v1+cell": {
     "cellMetadata": {
      "byteLimit": 2048000,
      "rowLimit": 10000
     },
     "inputWidgets": {},
     "nuid": "d6eeec5d-e1ca-46a7-a782-1861d169de02",
     "showTitle": false,
     "tableResultSettingsMap": {},
     "title": ""
    }
   },
   "outputs": [],
   "source": [
    "select * from naval_gold.agg_heartrate"
   ]
  },
  {
   "cell_type": "code",
   "execution_count": 0,
   "metadata": {
    "application/vnd.databricks.v1+cell": {
     "cellMetadata": {
      "byteLimit": 2048000,
      "rowLimit": 10000
     },
     "inputWidgets": {},
     "nuid": "74504264-f21b-4cbf-bc27-cf287c5709a2",
     "showTitle": false,
     "tableResultSettingsMap": {},
     "title": ""
    }
   },
   "outputs": [],
   "source": [
    "CREATE OR REPLACE VIEW naval_gold.agg_heartrate AS (\n",
    "  SELECT   \n",
    "    CASE WHEN\n",
    "    is_account_group_member('saas_da') THEN 'REDACTED'\n",
    "    ELSE mrn\n",
    "  END AS mrn,\n",
    "   name,\n",
    "   MEAN(heartrate) avg_heartrate, \n",
    "   DATE_TRUNC(\"DD\", time) date\n",
    "  FROM heartrate_device\n",
    "  GROUP BY mrn, name, DATE_TRUNC(\"DD\", time)\n",
    ");"
   ]
  },
  {
   "cell_type": "code",
   "execution_count": 0,
   "metadata": {
    "application/vnd.databricks.v1+cell": {
     "cellMetadata": {
      "byteLimit": 2048000,
      "rowLimit": 10000
     },
     "inputWidgets": {},
     "nuid": "2ccb79ca-de80-446a-b91e-620984c5399b",
     "showTitle": false,
     "tableResultSettingsMap": {},
     "title": ""
    }
   },
   "outputs": [],
   "source": [
    "select * from saas.naval_gold.agg_heartrate"
   ]
  },
  {
   "cell_type": "code",
   "execution_count": 0,
   "metadata": {
    "application/vnd.databricks.v1+cell": {
     "cellMetadata": {
      "byteLimit": 2048000,
      "rowLimit": 10000
     },
     "inputWidgets": {},
     "nuid": "b4c9887a-5a68-4a0f-8925-192661d0c861",
     "showTitle": false,
     "tableResultSettingsMap": {},
     "title": ""
    }
   },
   "outputs": [],
   "source": [
    "CREATE OR REPLACE VIEW naval_gold.agg_heartrate AS (\n",
    "  SELECT   \n",
    "    CASE WHEN\n",
    "    is_account_group_member('saas_da') THEN 'REDACTED'\n",
    "    ELSE mrn\n",
    "  END AS mrn,\n",
    "    CASE WHEN\n",
    "    is_account_group_member('account users') THEN 'REDACTED'\n",
    "    ELSE name\n",
    "  END AS name,\n",
    "   MEAN(heartrate) avg_heartrate, \n",
    "   DATE_TRUNC(\"DD\", time) date\n",
    "  FROM heartrate_device\n",
    "  GROUP BY mrn, name, DATE_TRUNC(\"DD\", time)\n",
    ");"
   ]
  },
  {
   "cell_type": "code",
   "execution_count": 0,
   "metadata": {
    "application/vnd.databricks.v1+cell": {
     "cellMetadata": {
      "byteLimit": 2048000,
      "rowLimit": 10000
     },
     "inputWidgets": {},
     "nuid": "2f192917-7074-4fa1-8462-bef2997341d0",
     "showTitle": false,
     "tableResultSettingsMap": {},
     "title": ""
    }
   },
   "outputs": [],
   "source": [
    "select * from saas.naval_gold.agg_heartrate"
   ]
  },
  {
   "cell_type": "markdown",
   "metadata": {
    "application/vnd.databricks.v1+cell": {
     "cellMetadata": {},
     "inputWidgets": {},
     "nuid": "fe4fa6f9-3d5a-440c-b7bb-ea9f1e50cf3b",
     "showTitle": false,
     "tableResultSettingsMap": {},
     "title": ""
    }
   },
   "source": [
    "##Row-level permissions"
   ]
  },
  {
   "cell_type": "code",
   "execution_count": 0,
   "metadata": {
    "application/vnd.databricks.v1+cell": {
     "cellMetadata": {
      "byteLimit": 2048000,
      "rowLimit": 10000
     },
     "inputWidgets": {},
     "nuid": "5fd537c8-2a86-4198-8c95-ae4fce0b747b",
     "showTitle": false,
     "tableResultSettingsMap": {},
     "title": ""
    }
   },
   "outputs": [],
   "source": [
    "CREATE OR REPLACE VIEW naval_gold.agg_heartrate AS (\n",
    "select \n",
    "* \n",
    "FROM heartrate_device \n",
    "where \n",
    "CASE\n",
    "    WHEN is_account_group_member('saas_de') THEN device_id > 17\n",
    "    ELSE TRUE\n",
    "  END\n",
    ");"
   ]
  },
  {
   "cell_type": "code",
   "execution_count": 0,
   "metadata": {
    "application/vnd.databricks.v1+cell": {
     "cellMetadata": {
      "byteLimit": 2048000,
      "rowLimit": 10000
     },
     "inputWidgets": {},
     "nuid": "32dc9236-391e-4b57-9398-27f8312010ad",
     "showTitle": false,
     "tableResultSettingsMap": {},
     "title": ""
    }
   },
   "outputs": [],
   "source": [
    "select * from naval_gold.agg_heartrate"
   ]
  },
  {
   "cell_type": "markdown",
   "metadata": {
    "application/vnd.databricks.v1+cell": {
     "cellMetadata": {},
     "inputWidgets": {},
     "nuid": "d7b29ca8-8a23-4cc3-bacf-9a2596fe676d",
     "showTitle": false,
     "tableResultSettingsMap": {},
     "title": ""
    }
   },
   "source": [
    "##Data masking"
   ]
  },
  {
   "cell_type": "code",
   "execution_count": 0,
   "metadata": {
    "application/vnd.databricks.v1+cell": {
     "cellMetadata": {
      "byteLimit": 2048000,
      "rowLimit": 10000
     },
     "inputWidgets": {},
     "nuid": "f261a54a-0ea3-4aa0-a988-c550adecbdd5",
     "showTitle": false,
     "tableResultSettingsMap": {},
     "title": ""
    }
   },
   "outputs": [],
   "source": [
    "CREATE OR REPLACE FUNCTION datamask(x STRING)\n",
    "  RETURNS STRING\n",
    "  RETURN CONCAT(REPEAT(\"*\", LENGTH(x) - 2), RIGHT(x, 2)\n",
    "); "
   ]
  },
  {
   "cell_type": "code",
   "execution_count": 0,
   "metadata": {
    "application/vnd.databricks.v1+cell": {
     "cellMetadata": {
      "byteLimit": 2048000,
      "rowLimit": 10000
     },
     "inputWidgets": {},
     "nuid": "119ece34-2379-4df9-abce-0657407adb1f",
     "showTitle": false,
     "tableResultSettingsMap": {},
     "title": ""
    }
   },
   "outputs": [],
   "source": [
    "CREATE OR REPLACE FUNCTION saas.kiran_gold.datamask(x STRING)\n",
    "  RETURNS STRING\n",
    "  RETURN CONCAT(REPEAT('*', LENGTH(x) - 2), RIGHT(x, 2));\n"
   ]
  },
  {
   "cell_type": "code",
   "execution_count": 0,
   "metadata": {
    "application/vnd.databricks.v1+cell": {
     "cellMetadata": {
      "byteLimit": 2048000,
      "rowLimit": 10000
     },
     "inputWidgets": {},
     "nuid": "93d2338c-e311-4e3c-996a-95e98660b0cc",
     "showTitle": false,
     "tableResultSettingsMap": {},
     "title": ""
    }
   },
   "outputs": [],
   "source": [
    "select saas.kiran_gold.datamask (\"kiran.rok@gmail.com\") as masked"
   ]
  },
  {
   "cell_type": "code",
   "execution_count": 0,
   "metadata": {
    "application/vnd.databricks.v1+cell": {
     "cellMetadata": {
      "byteLimit": 2048000,
      "rowLimit": 10000
     },
     "inputWidgets": {},
     "nuid": "29b7853b-182a-48b2-9a10-cf714e05d6d3",
     "showTitle": false,
     "tableResultSettingsMap": {},
     "title": ""
    }
   },
   "outputs": [],
   "source": [
    "CREATE OR REPLACE VIEW saas.kiran_gold.agg_heartrate AS (\n",
    "  SELECT   \n",
    "    CASE WHEN\n",
    "    is_account_group_member('account users') THEN datamask(mrn)\n",
    "    ELSE mrn\n",
    "  END AS mrn,\n",
    "   name,\n",
    "   MEAN(heartrate) avg_heartrate, \n",
    "   DATE_TRUNC(\"DD\", time) date\n",
    "  FROM heartrate_device\n",
    "  GROUP BY mrn, name, DATE_TRUNC(\"DD\", time)\n",
    ");"
   ]
  },
  {
   "cell_type": "code",
   "execution_count": 0,
   "metadata": {
    "application/vnd.databricks.v1+cell": {
     "cellMetadata": {},
     "inputWidgets": {},
     "nuid": "3a500542-ab5a-48e2-a999-bd0ac31ceaf5",
     "showTitle": false,
     "tableResultSettingsMap": {},
     "title": ""
    }
   },
   "outputs": [],
   "source": [
    "select * from naval_gold.agg_heartrate"
   ]
  }
 ],
 "metadata": {
  "application/vnd.databricks.v1+notebook": {
   "computePreferences": null,
   "dashboards": [],
   "environmentMetadata": {
    "base_environment": "",
    "environment_version": "2"
   },
   "inputWidgetPreferences": null,
   "language": "sql",
   "notebookMetadata": {
    "pythonIndentUnit": 4
   },
   "notebookName": "Dynamic Views",
   "widgets": {}
  },
  "language_info": {
   "name": "sql"
  }
 },
 "nbformat": 4,
 "nbformat_minor": 0
}
