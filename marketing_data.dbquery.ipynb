{
 "cells": [
  {
   "cell_type": "code",
   "execution_count": 0,
   "metadata": {
    "application/vnd.databricks.v1+cell": {
     "cellMetadata": {
      "byteLimit": 10485760,
      "rowLimit": 1000
     },
     "inputWidgets": {},
     "nuid": "0cf0c841-c5ff-436e-8ef2-755ba6122d61",
     "showTitle": false,
     "tableResultSettingsMap": {},
     "title": ""
    }
   },
   "outputs": [],
   "source": [
    "/* s3://jpmctraining/input\n",
    "auto_marketing_ad_clicks.csv\n",
    "auto_marketing_bookings.csv\n",
    "auto_marketing_campaigns.csv\n",
    "auto_marketing_leads.csv\n",
    "auto_marketing_users.csv\n",
    "*/\n",
    "\n",
    "\n",
    "--select * from csv.`s3://jpmctraining/input/auto_marketing_ad_clicks.csv`\n",
    "\n",
    "create table :tablename as\n",
    "select * from read_files('s3://jpmctraining/input/auto_marketing_ad_clicks.csv'|| :filename,format=>\"csv\");\n",
    "\n",
    "--select * from csv.`s3://jpmctraining/input/auto_marketing_ad_clicks.csv`\n",
    "\n",
    "select * from read_files('s3://jpmctraining/input/' || :filename, format=>'csv');\n",
    "\n",
    "\n",
    "select * from ad_clicks;\n",
    "describe extended ad_clicks;\n",
    "\n",
    "select * from bookings;\n",
    "describe extended bookings;\n",
    "\n",
    "select * from campaigns;\n",
    "describe extended campaigns;\n",
    "\n",
    "select * from leads;\n",
    "describe extended leads;\n",
    "\n",
    "select * from users;\n",
    "describe extended users;\n",
    "\n",
    "\n",
    "select * from ad_clicks;\n",
    "describe extended ad_clicks;"
   ]
  }
 ],
 "metadata": {
  "application/vnd.databricks.v1+notebook": {
   "computePreferences": null,
   "dashboards": [],
   "environmentMetadata": null,
   "inputWidgetPreferences": null,
   "language": "sql",
   "notebookMetadata": {
    "pythonIndentUnit": 4,
    "sqlQueryOptions": {
     "applyAutoLimit": true,
     "catalog": "saas",
     "schema": "kiran_bronze"
    }
   },
   "notebookName": "marketing_data.dbquery.ipynb",
   "widgets": {
    "filename": {
     "currentValue": "",
     "nuid": "eb8284b0-3e5a-4bbe-ae7f-7cef3e39c3d8",
     "typedWidgetInfo": {
      "autoCreated": true,
      "defaultValue": "",
      "label": null,
      "name": "filename",
      "options": {
       "widgetDisplayType": "Text",
       "validationRegex": null
      },
      "parameterDataType": "String"
     },
     "widgetInfo": {
      "widgetType": "text",
      "defaultValue": "",
      "label": null,
      "name": "filename",
      "options": {
       "widgetType": "text",
       "autoCreated": true,
       "validationRegex": null
      }
     }
    },
    "tablename": {
     "currentValue": "",
     "nuid": "aaa5bfcb-608f-4ce8-a1e1-f1d79ff784a0",
     "typedWidgetInfo": {
      "autoCreated": true,
      "defaultValue": "",
      "label": null,
      "name": "tablename",
      "options": {
       "widgetDisplayType": "Text",
       "validationRegex": null
      },
      "parameterDataType": "String"
     },
     "widgetInfo": {
      "widgetType": "text",
      "defaultValue": "",
      "label": null,
      "name": "tablename",
      "options": {
       "widgetType": "text",
       "autoCreated": true,
       "validationRegex": null
      }
     }
    }
   }
  },
  "language_info": {
   "name": "sql"
  }
 },
 "nbformat": 4,
 "nbformat_minor": 0
}
